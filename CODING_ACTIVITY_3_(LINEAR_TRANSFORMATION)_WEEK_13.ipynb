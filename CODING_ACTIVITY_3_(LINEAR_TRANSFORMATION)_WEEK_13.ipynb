{
  "nbformat": 4,
  "nbformat_minor": 0,
  "metadata": {
    "colab": {
      "name": "CODING ACTIVITY 3 (LINEAR TRANSFORMATION) - WEEK 13.ipynb",
      "provenance": [],
      "authorship_tag": "ABX9TyPjmCHyNOslMQifQ1JfcM+B",
      "include_colab_link": true
    },
    "kernelspec": {
      "name": "python3",
      "display_name": "Python 3"
    },
    "language_info": {
      "name": "python"
    }
  },
  "cells": [
    {
      "cell_type": "markdown",
      "metadata": {
        "id": "view-in-github",
        "colab_type": "text"
      },
      "source": [
        "<a href=\"https://colab.research.google.com/github/viaa-bot/Linear-Algebra-58019/blob/main/CODING_ACTIVITY_3_(LINEAR_TRANSFORMATION)_WEEK_13.ipynb\" target=\"_parent\"><img src=\"https://colab.research.google.com/assets/colab-badge.svg\" alt=\"Open In Colab\"/></a>"
      ]
    },
    {
      "cell_type": "markdown",
      "metadata": {
        "id": "JLA4kgfBUmgb"
      },
      "source": [
        "##CODING ACTIVITY 3"
      ]
    },
    {
      "cell_type": "markdown",
      "metadata": {
        "id": "hnW7Sn_sU98v"
      },
      "source": [
        "##Create a NumPy program that solves for the unknown variables of linear systems:\n",
        "\n",
        "4x +10y+8z = 44\n",
        "\n",
        "10x+26y+26z = 128\n",
        "\n",
        "8x+26y+61z = 214"
      ]
    },
    {
      "cell_type": "code",
      "metadata": {
        "colab": {
          "base_uri": "https://localhost:8080/"
        },
        "id": "GKS5f3taUjB1",
        "outputId": "bde49dd2-fb05-4370-fb4f-9f191ef29752"
      },
      "source": [
        "import numpy as np\n",
        "A = np.array([[4,10,8],[10,26,26],[8,26,61]]) #creation of matrix A\n",
        "print(A)\n",
        "print(\"------------\")\n",
        "inv_A = np.linalg.inv(A) #inverse of matrix A\n",
        "print(inv_A)\n",
        "print(\"------------\")\n",
        "B = np.array([[44],[128],[214]]) #creation of matrix B (constants of the eq.)\n",
        "print(B)\n",
        "print(\"------------\")\n",
        "X = np.dot(inv_A,B) #dot product (values of x,y,z)\n",
        "print(X)"
      ],
      "execution_count": 2,
      "outputs": [
        {
          "output_type": "stream",
          "name": "stdout",
          "text": [
            "[[ 4 10  8]\n",
            " [10 26 26]\n",
            " [ 8 26 61]]\n",
            "------------\n",
            "[[ 25.27777778 -11.16666667   1.44444444]\n",
            " [-11.16666667   5.          -0.66666667]\n",
            " [  1.44444444  -0.66666667   0.11111111]]\n",
            "------------\n",
            "[[ 44]\n",
            " [128]\n",
            " [214]]\n",
            "------------\n",
            "[[-8.]\n",
            " [ 6.]\n",
            " [ 2.]]\n"
          ]
        }
      ]
    }
  ]
}