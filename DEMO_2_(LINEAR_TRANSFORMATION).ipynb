{
  "nbformat": 4,
  "nbformat_minor": 0,
  "metadata": {
    "colab": {
      "name": "DEMO 2 (LINEAR TRANSFORMATION).ipynb",
      "provenance": [],
      "authorship_tag": "ABX9TyNUe1lgrf+7GL2BBApVj3Og",
      "include_colab_link": true
    },
    "kernelspec": {
      "name": "python3",
      "display_name": "Python 3"
    },
    "language_info": {
      "name": "python"
    }
  },
  "cells": [
    {
      "cell_type": "markdown",
      "metadata": {
        "id": "view-in-github",
        "colab_type": "text"
      },
      "source": [
        "<a href=\"https://colab.research.google.com/github/viaa-bot/Linear-Algebra-58019/blob/main/DEMO_2_(LINEAR_TRANSFORMATION).ipynb\" target=\"_parent\"><img src=\"https://colab.research.google.com/assets/colab-badge.svg\" alt=\"Open In Colab\"/></a>"
      ]
    },
    {
      "cell_type": "markdown",
      "metadata": {
        "id": "7RqrHJOPSLak"
      },
      "source": [
        "##To find the inverse of a matrix, the matrix is passed to the linalg.inv() of the NumPy module:\n"
      ]
    },
    {
      "cell_type": "markdown",
      "metadata": {
        "id": "6a53yZLLV0nf"
      },
      "source": [
        "4x + 3y = 20\n",
        "\n",
        "-5x + 9y = 26"
      ]
    },
    {
      "cell_type": "code",
      "metadata": {
        "colab": {
          "base_uri": "https://localhost:8080/"
        },
        "id": "VwBhtEIuRRUS",
        "outputId": "ad5e7408-dabe-4b6c-9303-41798c598b9e"
      },
      "source": [
        "import numpy as np\n",
        "A = np.array([[4,3],[-5,9]])\n",
        "print(A)\n",
        "print(\"------------\")\n",
        "inv_A =np.linalg.inv(A)\n",
        "print(inv_A)\n",
        "print(\"------------\")\n",
        "B = np.array([[20],[26]])\n",
        "X=np.linalg.inv(A).dot(B) #method in solving values of unknown var.\n",
        "print(X)\n",
        "print(\"------------\")\n",
        "X=np.dot(inv_A,B) #alternative method in solving values of unknown var.\n",
        "print(X)"
      ],
      "execution_count": 14,
      "outputs": [
        {
          "output_type": "stream",
          "name": "stdout",
          "text": [
            "[[ 4  3]\n",
            " [-5  9]]\n",
            "------------\n",
            "[[ 0.17647059 -0.05882353]\n",
            " [ 0.09803922  0.07843137]]\n",
            "------------\n",
            "[[2.]\n",
            " [4.]]\n",
            "------------\n",
            "[[2.]\n",
            " [4.]]\n"
          ]
        }
      ]
    },
    {
      "cell_type": "markdown",
      "metadata": {
        "id": "MDpp6x7FVMOA"
      },
      "source": [
        "Let's now solve a system of three linear equations shown below:\n",
        "\n",
        "4x + 3y + 2z = 25\n",
        "\n",
        "-2x + 2y + 3z = -10\n",
        "\n",
        "3x - 5y + 2z = -4"
      ]
    },
    {
      "cell_type": "code",
      "metadata": {
        "colab": {
          "base_uri": "https://localhost:8080/"
        },
        "id": "v08KcG-2VLS2",
        "outputId": "9978eb9d-636f-4437-d96a-f7ac996dbb12"
      },
      "source": [
        "import numpy as np\n",
        "A = np.array([[4,3,2],[-2,2,3],[3,-5,2]]) #creation of matrix A\n",
        "print(A)\n",
        "print(\"------------\")\n",
        "inv_A = np.linalg.inv(A) #inverse of matrix A\n",
        "print(inv_A)\n",
        "print(\"------------\")\n",
        "B = np.array([[25],[-10],[-4]]) #creation of matrix B (constants of the eq.)\n",
        "print(B)\n",
        "print(\"------------\")\n",
        "X = np.dot(inv_A,B) #dot product (values of x,y,z)\n",
        "print(X)"
      ],
      "execution_count": 15,
      "outputs": [
        {
          "output_type": "stream",
          "name": "stdout",
          "text": [
            "[[ 4  3  2]\n",
            " [-2  2  3]\n",
            " [ 3 -5  2]]\n",
            "------------\n",
            "[[ 0.15447154 -0.1300813   0.04065041]\n",
            " [ 0.10569106  0.01626016 -0.1300813 ]\n",
            " [ 0.03252033  0.23577236  0.11382114]]\n",
            "------------\n",
            "[[ 25]\n",
            " [-10]\n",
            " [ -4]]\n",
            "------------\n",
            "[[ 5.]\n",
            " [ 3.]\n",
            " [-2.]]\n"
          ]
        }
      ]
    },
    {
      "cell_type": "markdown",
      "metadata": {
        "id": "Ni0JjCK7QyQq"
      },
      "source": [
        "##APPLICATION (ORANGE AND APPLE)"
      ]
    },
    {
      "cell_type": "code",
      "metadata": {
        "colab": {
          "base_uri": "https://localhost:8080/"
        },
        "id": "6yia57pUQp9k",
        "outputId": "6e149fc6-db45-4217-e84c-2c31cc4f302e"
      },
      "source": [
        "import numpy as np\n",
        "A = np.array([[20,10],[17,22]])\n",
        "print(A)\n",
        "print(\"------------\")\n",
        "inv_A =np.linalg.inv(A)\n",
        "print(inv_A)\n",
        "print(\"------------\")\n",
        "B = np.array([[350],[500]])\n",
        "X=np.dot(inv_A,B)\n",
        "print(X)\n"
      ],
      "execution_count": 16,
      "outputs": [
        {
          "output_type": "stream",
          "name": "stdout",
          "text": [
            "[[20 10]\n",
            " [17 22]]\n",
            "------------\n",
            "[[ 0.08148148 -0.03703704]\n",
            " [-0.06296296  0.07407407]]\n",
            "------------\n",
            "[[10.]\n",
            " [15.]]\n"
          ]
        }
      ]
    },
    {
      "cell_type": "markdown",
      "metadata": {
        "id": "7GyXdyImRbno"
      },
      "source": [
        "TO CHECK IF THE ANSWER IS CORRECT"
      ]
    },
    {
      "cell_type": "code",
      "metadata": {
        "colab": {
          "base_uri": "https://localhost:8080/"
        },
        "id": "HhBcOIEYRfMZ",
        "outputId": "b33087bc-c337-4e70-dafa-760575b20d2a"
      },
      "source": [
        "B = np.dot(A,X)\n",
        "print(B)"
      ],
      "execution_count": 17,
      "outputs": [
        {
          "output_type": "stream",
          "name": "stdout",
          "text": [
            "[[350.]\n",
            " [500.]]\n"
          ]
        }
      ]
    }
  ]
}