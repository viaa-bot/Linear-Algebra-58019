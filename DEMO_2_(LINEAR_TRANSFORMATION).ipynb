{
  "nbformat": 4,
  "nbformat_minor": 0,
  "metadata": {
    "colab": {
      "name": "DEMO 2 (LINEAR TRANSFORMATION).ipynb",
      "provenance": [],
      "authorship_tag": "ABX9TyNd0FJATAELF8qts/Oob0Pr",
      "include_colab_link": true
    },
    "kernelspec": {
      "name": "python3",
      "display_name": "Python 3"
    },
    "language_info": {
      "name": "python"
    }
  },
  "cells": [
    {
      "cell_type": "markdown",
      "metadata": {
        "id": "view-in-github",
        "colab_type": "text"
      },
      "source": [
        "<a href=\"https://colab.research.google.com/github/viaa-bot/Linear-Algebra-58019/blob/main/DEMO_2_(LINEAR_TRANSFORMATION).ipynb\" target=\"_parent\"><img src=\"https://colab.research.google.com/assets/colab-badge.svg\" alt=\"Open In Colab\"/></a>"
      ]
    },
    {
      "cell_type": "markdown",
      "metadata": {
        "id": "7RqrHJOPSLak"
      },
      "source": [
        "##To find the inverse of a matrix, the matrix is passed to the linalg.inv() of the NumPy module:\n"
      ]
    },
    {
      "cell_type": "code",
      "metadata": {
        "colab": {
          "base_uri": "https://localhost:8080/"
        },
        "id": "VwBhtEIuRRUS",
        "outputId": "8e3fb2fd-c822-4223-e05b-1a8f052b665e"
      },
      "source": [
        "import numpy as np\n",
        "A = np.array([[4,3],[-5,9]])\n",
        "print(A)\n",
        "print(\"------------\")\n",
        "inv_A =np.linalg.inv(A)\n",
        "print(inv_A)\n",
        "print(\"------------\")\n",
        "B = np.array([[20],[26]])\n",
        "X=np.linalg.inv(A).dot(B) #method in solving values of unknown var.\n",
        "print(X)\n",
        "print(\"------------\")\n",
        "X=np.dot(inv_A,B) #alternative method in solving values of unknown var.\n",
        "print(X)"
      ],
      "execution_count": 10,
      "outputs": [
        {
          "output_type": "stream",
          "name": "stdout",
          "text": [
            "[[ 4  3]\n",
            " [-5  9]]\n",
            "------------\n",
            "[[ 0.17647059 -0.05882353]\n",
            " [ 0.09803922  0.07843137]]\n",
            "------------\n",
            "[[2.]\n",
            " [4.]]\n",
            "------------\n",
            "[[2.]\n",
            " [4.]]\n"
          ]
        }
      ]
    },
    {
      "cell_type": "markdown",
      "metadata": {
        "id": "Ni0JjCK7QyQq"
      },
      "source": [
        "##APPLICATION "
      ]
    },
    {
      "cell_type": "code",
      "metadata": {
        "colab": {
          "base_uri": "https://localhost:8080/"
        },
        "id": "6yia57pUQp9k",
        "outputId": "c7d28440-7d2f-4390-ec4e-011f2dc01bdb"
      },
      "source": [
        "import numpy as np\n",
        "A = np.array([[20,10],[17,22]])\n",
        "print(A)\n",
        "print(\"------------\")\n",
        "inv_A =np.linalg.inv(A)\n",
        "print(inv_A)\n",
        "print(\"------------\")\n",
        "B = np.array([[350],[500]])\n",
        "X=np.dot(inv_A,B)\n",
        "print(X)\n"
      ],
      "execution_count": 11,
      "outputs": [
        {
          "output_type": "stream",
          "name": "stdout",
          "text": [
            "[[20 10]\n",
            " [17 22]]\n",
            "------------\n",
            "[[ 0.08148148 -0.03703704]\n",
            " [-0.06296296  0.07407407]]\n",
            "------------\n",
            "[[10.]\n",
            " [15.]]\n"
          ]
        }
      ]
    },
    {
      "cell_type": "markdown",
      "metadata": {
        "id": "7GyXdyImRbno"
      },
      "source": [
        "##TO CHECK IF THE ANSWER IS CORRECT"
      ]
    },
    {
      "cell_type": "code",
      "metadata": {
        "colab": {
          "base_uri": "https://localhost:8080/"
        },
        "id": "HhBcOIEYRfMZ",
        "outputId": "4d8acea8-d43f-445e-c107-0f9e15cfe384"
      },
      "source": [
        "B = np.dot(A,X)\n",
        "print(B)"
      ],
      "execution_count": 12,
      "outputs": [
        {
          "output_type": "stream",
          "name": "stdout",
          "text": [
            "[[350.]\n",
            " [500.]]\n"
          ]
        }
      ]
    }
  ]
}