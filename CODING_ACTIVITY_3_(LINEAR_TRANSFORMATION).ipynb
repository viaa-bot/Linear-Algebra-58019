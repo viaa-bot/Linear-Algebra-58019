{
  "nbformat": 4,
  "nbformat_minor": 0,
  "metadata": {
    "colab": {
      "name": "CODING ACTIVITY 3 (LINEAR TRANSFORMATION).ipynb",
      "provenance": [],
      "authorship_tag": "ABX9TyPEC3l7wNJQzzNECCK39GlZ",
      "include_colab_link": true
    },
    "kernelspec": {
      "name": "python3",
      "display_name": "Python 3"
    },
    "language_info": {
      "name": "python"
    }
  },
  "cells": [
    {
      "cell_type": "markdown",
      "metadata": {
        "id": "view-in-github",
        "colab_type": "text"
      },
      "source": [
        "<a href=\"https://colab.research.google.com/github/viaa-bot/Linear-Algebra-58019/blob/main/CODING_ACTIVITY_3_(LINEAR_TRANSFORMATION).ipynb\" target=\"_parent\"><img src=\"https://colab.research.google.com/assets/colab-badge.svg\" alt=\"Open In Colab\"/></a>"
      ]
    },
    {
      "cell_type": "markdown",
      "metadata": {
        "id": "fBw6j-PdQKjL"
      },
      "source": [
        "##CODING ACTIVITY 3"
      ]
    },
    {
      "cell_type": "code",
      "metadata": {
        "colab": {
          "base_uri": "https://localhost:8080/"
        },
        "id": "07GOpVeZH04l",
        "outputId": "a00683a8-ed2e-49ad-a7b9-4eacdfc3cf6e"
      },
      "source": [
        "import numpy as np\n",
        "A = np.array([[4,3,2],[-2,2,3],[3,-5,2]]) #creation of matrix A\n",
        "print(A)\n",
        "print(\"------------\")\n",
        "inv_A = np.linalg.inv(A) #inverse of matrix A\n",
        "print(inv_A)\n",
        "print(\"------------\")\n",
        "B = np.array([[25],[-10],[-4]]) #creation of matrix B (constants of the eq.)\n",
        "print(B)\n",
        "print(\"------------\")\n",
        "X = np.dot(inv_A,B) #dot product (values of x,y,z)\n",
        "print(X)"
      ],
      "execution_count": 13,
      "outputs": [
        {
          "output_type": "stream",
          "name": "stdout",
          "text": [
            "[[ 4  3  2]\n",
            " [-2  2  3]\n",
            " [ 3 -5  2]]\n",
            "------------\n",
            "[[ 0.15447154 -0.1300813   0.04065041]\n",
            " [ 0.10569106  0.01626016 -0.1300813 ]\n",
            " [ 0.03252033  0.23577236  0.11382114]]\n",
            "------------\n",
            "[[ 25]\n",
            " [-10]\n",
            " [ -4]]\n",
            "------------\n",
            "[[ 5.]\n",
            " [ 3.]\n",
            " [-2.]]\n"
          ]
        }
      ]
    }
  ]
}