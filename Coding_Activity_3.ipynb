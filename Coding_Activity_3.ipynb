{
  "nbformat": 4,
  "nbformat_minor": 0,
  "metadata": {
    "colab": {
      "name": "Coding Activity 3.ipynb",
      "provenance": [],
      "authorship_tag": "ABX9TyMKHUydbgqmcm6ACO70APMl",
      "include_colab_link": true
    },
    "kernelspec": {
      "name": "python3",
      "display_name": "Python 3"
    },
    "language_info": {
      "name": "python"
    }
  },
  "cells": [
    {
      "cell_type": "markdown",
      "metadata": {
        "id": "view-in-github",
        "colab_type": "text"
      },
      "source": [
        "<a href=\"https://colab.research.google.com/github/viaa-bot/Linear-Algebra-58019/blob/main/Coding_Activity_3.ipynb\" target=\"_parent\"><img src=\"https://colab.research.google.com/assets/colab-badge.svg\" alt=\"Open In Colab\"/></a>"
      ]
    },
    {
      "cell_type": "markdown",
      "metadata": {
        "id": "ybwYfdjWG8GI"
      },
      "source": [
        "Create a Python Program to inverse and transpose a 4x4 matrix, A = ([[6,1,1,3],[4,-2,5,1],[2,8,7,6], [3,1,9,7]])"
      ]
    },
    {
      "cell_type": "code",
      "metadata": {
        "colab": {
          "base_uri": "https://localhost:8080/"
        },
        "id": "kCw7AgPbJovO",
        "outputId": "7366385e-35f9-4ba4-eaac-e44c933b023c"
      },
      "source": [
        "##Python Program to Inverse\n",
        "\n",
        "import numpy as np\n",
        "A = np.array([[1,2],[4,7]])\n",
        "invA = np.linalg.inv(A)\n",
        "print(invA)\n",
        "\n",
        "\n",
        "C=np.dot(A,invA)\n",
        "print(C)\n",
        "\n",
        "\n",
        "##Python Program to Transpose with 3x3 Matrix\n",
        "\n",
        "a = np.array([[6,1,1],[4,-2,5],[2,8,7]])\n",
        "b = np.transpose(a)\n",
        "print(a, \"\\n\\n\")\n",
        "print(b)"
      ],
      "execution_count": 8,
      "outputs": [
        {
          "output_type": "stream",
          "name": "stdout",
          "text": [
            "[[-7.  2.]\n",
            " [ 4. -1.]]\n",
            "[[1. 0.]\n",
            " [0. 1.]]\n",
            "[[ 6  1  1]\n",
            " [ 4 -2  5]\n",
            " [ 2  8  7]] \n",
            "\n",
            "\n",
            "[[ 6  4  2]\n",
            " [ 1 -2  8]\n",
            " [ 1  5  7]]\n"
          ]
        }
      ]
    },
    {
      "cell_type": "code",
      "metadata": {
        "colab": {
          "base_uri": "https://localhost:8080/"
        },
        "id": "FaCYgpycDXZ_",
        "outputId": "8e451049-7bf5-466e-f671-4a9940dddf23"
      },
      "source": [
        "import numpy as np #numpy library\n",
        "A = ([[6,1,1,3],[4,-2,5,1],[2,8,7,6],[3,1,9,7]]) #Matrix A\n",
        "invA = np.linalg.inv(A) #function to be used for inversing matrix\n",
        "print(invA) #printing inverse matrix\n"
      ],
      "execution_count": 5,
      "outputs": [
        {
          "output_type": "stream",
          "name": "stdout",
          "text": [
            "[[ 0.13368984  0.10695187  0.02139037 -0.09090909]\n",
            " [-0.00229183  0.02673797  0.14820474 -0.12987013]\n",
            " [-0.12987013  0.18181818  0.06493506 -0.02597403]\n",
            " [ 0.11000764 -0.28342246 -0.11382735  0.23376623]]\n"
          ]
        }
      ]
    },
    {
      "cell_type": "code",
      "metadata": {
        "colab": {
          "base_uri": "https://localhost:8080/"
        },
        "id": "EiDGkSbHGhxq",
        "outputId": "9bd9a3c9-943f-4022-d21b-333b2e386567"
      },
      "source": [
        "transA = np.transpose(A) #function to be used for transposing matrix\n",
        "print(transA) #printing transpose matrix"
      ],
      "execution_count": 6,
      "outputs": [
        {
          "output_type": "stream",
          "name": "stdout",
          "text": [
            "[[ 6  4  2  3]\n",
            " [ 1 -2  8  1]\n",
            " [ 1  5  7  9]\n",
            " [ 3  1  6  7]]\n"
          ]
        }
      ]
    }
  ]
}