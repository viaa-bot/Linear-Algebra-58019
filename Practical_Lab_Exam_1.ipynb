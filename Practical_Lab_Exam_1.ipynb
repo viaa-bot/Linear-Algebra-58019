{
  "nbformat": 4,
  "nbformat_minor": 0,
  "metadata": {
    "colab": {
      "name": "Practical Lab Exam 1.ipynb",
      "provenance": [],
      "authorship_tag": "ABX9TyOisED8ncWmTVrCpWMUs+T2",
      "include_colab_link": true
    },
    "kernelspec": {
      "name": "python3",
      "display_name": "Python 3"
    },
    "language_info": {
      "name": "python"
    }
  },
  "cells": [
    {
      "cell_type": "markdown",
      "metadata": {
        "id": "view-in-github",
        "colab_type": "text"
      },
      "source": [
        "<a href=\"https://colab.research.google.com/github/viaa-bot/Linear-Algebra-58019/blob/main/Practical_Lab_Exam_1.ipynb\" target=\"_parent\"><img src=\"https://colab.research.google.com/assets/colab-badge.svg\" alt=\"Open In Colab\"/></a>"
      ]
    },
    {
      "cell_type": "code",
      "metadata": {
        "colab": {
          "base_uri": "https://localhost:8080/"
        },
        "id": "AwJwqjBPnyTk",
        "outputId": "93688efc-1031-4062-8050-20a9cac5f96d"
      },
      "source": [
        "import numpy as np\n",
        "A = np.array([[1,2,3],[4,5,6]])\n",
        "B = np.array([[1,2],[3,4],[5,6]])\n",
        "C = np.array([[1,2,3],[4,5,6],[7,8,9]])\n",
        "D = np.array([[1,2],[3,4]])\n",
        "\n",
        "print(np.dot(A,B))\n",
        "\n",
        "Z = D+D\n",
        "print(Z)\n",
        "\n",
        "Y = 2*C\n",
        "print(Y)\n",
        "\n"
      ],
      "execution_count": 41,
      "outputs": [
        {
          "output_type": "stream",
          "name": "stdout",
          "text": [
            "[[22 28]\n",
            " [49 64]]\n",
            "[[2 4]\n",
            " [6 8]]\n",
            "[[ 2  4  6]\n",
            " [ 8 10 12]\n",
            " [14 16 18]]\n"
          ]
        }
      ]
    },
    {
      "cell_type": "code",
      "metadata": {
        "colab": {
          "base_uri": "https://localhost:8080/"
        },
        "id": "VD4Q3dJSwo7g",
        "outputId": "b12f2a45-fafc-4aa7-bcab-5e61b5a2e5ca"
      },
      "source": [
        "M = np.matrix([5,3,-1])\n",
        "print(M.shape)\n",
        "print(M.ndim)\n",
        "print(M.size)\n",
        "print(type(M))\n"
      ],
      "execution_count": 42,
      "outputs": [
        {
          "output_type": "stream",
          "name": "stdout",
          "text": [
            "(1, 3)\n",
            "2\n",
            "3\n",
            "<class 'numpy.matrix'>\n"
          ]
        }
      ]
    }
  ]
}