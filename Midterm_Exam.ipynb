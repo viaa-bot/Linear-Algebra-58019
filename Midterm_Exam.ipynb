{
  "nbformat": 4,
  "nbformat_minor": 0,
  "metadata": {
    "colab": {
      "name": "Midterm Exam.ipynb",
      "provenance": [],
      "authorship_tag": "ABX9TyPOUZu0QrQjO+wCgdDi7wc4",
      "include_colab_link": true
    },
    "kernelspec": {
      "name": "python3",
      "display_name": "Python 3"
    },
    "language_info": {
      "name": "python"
    }
  },
  "cells": [
    {
      "cell_type": "markdown",
      "metadata": {
        "id": "view-in-github",
        "colab_type": "text"
      },
      "source": [
        "<a href=\"https://colab.research.google.com/github/viaa-bot/Linear-Algebra-58019/blob/main/Midterm_Exam.ipynb\" target=\"_parent\"><img src=\"https://colab.research.google.com/assets/colab-badge.svg\" alt=\"Open In Colab\"/></a>"
      ]
    },
    {
      "cell_type": "markdown",
      "metadata": {
        "id": "UWQ4bxqP7EBw"
      },
      "source": [
        "##Question 1. Create a Python code that displays a square matrix whose length is 5 (10 points)\n"
      ]
    },
    {
      "cell_type": "code",
      "metadata": {
        "colab": {
          "base_uri": "https://localhost:8080/"
        },
        "id": "HogCW5UV60gv",
        "outputId": "0422ed55-ac12-4a73-8b4b-87f2a793be3f"
      },
      "source": [
        "import numpy as np \n",
        "A = np.array([[5,5,5,5,5],[6,6,6,6,6],[7,7,7,7,7],[8,8,8,8,8],[9,9,9,9,9]]) #creation of matrix A\n",
        "print(A)"
      ],
      "execution_count": 41,
      "outputs": [
        {
          "output_type": "stream",
          "name": "stdout",
          "text": [
            "[[5 5 5 5 5]\n",
            " [6 6 6 6 6]\n",
            " [7 7 7 7 7]\n",
            " [8 8 8 8 8]\n",
            " [9 9 9 9 9]]\n"
          ]
        }
      ]
    },
    {
      "cell_type": "markdown",
      "metadata": {
        "id": "M8kom2EI8OUU"
      },
      "source": [
        "##Question 2. Create a Python code that displays a square matrix whose elements below the principal diagonal are zero (10 points)\n",
        "\n"
      ]
    },
    {
      "cell_type": "code",
      "metadata": {
        "colab": {
          "base_uri": "https://localhost:8080/"
        },
        "id": "nBjAci_s72Uj",
        "outputId": "cf152307-bf9a-4753-9fc7-e4ec98e52c8b"
      },
      "source": [
        "import numpy as np \n",
        "C = np.eye(5)\n",
        "A = np.triu(a) \n",
        "print(A)"
      ],
      "execution_count": 40,
      "outputs": [
        {
          "output_type": "stream",
          "name": "stdout",
          "text": [
            "[[1 2 3 4 5]\n",
            " [0 6 6 6 6]\n",
            " [0 0 7 7 7]\n",
            " [0 0 0 8 8]\n",
            " [0 0 0 0 9]]\n"
          ]
        }
      ]
    },
    {
      "cell_type": "markdown",
      "metadata": {
        "id": "5q6NjamoBZw6"
      },
      "source": [
        "##Question 3. Create a Python code that displays a square matrix which is symmetrical (10 points)\n",
        "\n"
      ]
    },
    {
      "cell_type": "code",
      "metadata": {
        "colab": {
          "base_uri": "https://localhost:8080/"
        },
        "id": "K_RBL4vX854X",
        "outputId": "db72db34-f309-4476-b8af-e4f99bcb4684"
      },
      "source": [
        "import numpy as np\n",
        "A = np.array([[1,2,3], [4,5,6], [7,8,9]]) #creation of matrix A\n",
        "print('Matrix A:')\n",
        "print(A)\n",
        "print('\\nTranspose of A:')\n",
        "print(A.T)\n",
        "B = np.matmul(A,A.T)\n",
        "print('\\nSymmetric Matrix:')\n",
        "print(B)"
      ],
      "execution_count": 39,
      "outputs": [
        {
          "output_type": "stream",
          "name": "stdout",
          "text": [
            "Matrix A:\n",
            "[[1 2 3]\n",
            " [4 5 6]\n",
            " [7 8 9]]\n",
            "\n",
            "Transpose of A:\n",
            "[[1 4 7]\n",
            " [2 5 8]\n",
            " [3 6 9]]\n",
            "\n",
            "Symmetric Matrix:\n",
            "[[ 14  32  50]\n",
            " [ 32  77 122]\n",
            " [ 50 122 194]]\n"
          ]
        }
      ]
    },
    {
      "cell_type": "markdown",
      "metadata": {
        "id": "gqRIidHu5mqK"
      },
      "source": [
        "##Question 4. What is the inverse of matrix C? Show your solution by python coding. (20 points)\n",
        "![2.PNG](data:image/png;base64,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)\n"
      ]
    },
    {
      "cell_type": "code",
      "metadata": {
        "colab": {
          "base_uri": "https://localhost:8080/"
        },
        "id": "MdwfXhxW6cfB",
        "outputId": "8ef7e681-ce7e-43df-f2ff-4ecab8d74135"
      },
      "source": [
        "import numpy as np\n",
        "A = np.array([[1,2,3],[2,3,3],[3,4,-2]]) #creation of matrix A\n",
        "print(\"Matrix A:\")\n",
        "print(A)\n",
        "inv_A = np.linalg.inv(A) #inverse of matrix A\n",
        "print (\"\\nInverse of Matrix A:\")\n",
        "print(inv_A)"
      ],
      "execution_count": 38,
      "outputs": [
        {
          "output_type": "stream",
          "name": "stdout",
          "text": [
            "Matrix A:\n",
            "[[ 1  2  3]\n",
            " [ 2  3  3]\n",
            " [ 3  4 -2]]\n",
            "\n",
            "Inverse of Matrix A:\n",
            "[[-3.6  3.2 -0.6]\n",
            " [ 2.6 -2.2  0.6]\n",
            " [-0.2  0.4 -0.2]]\n"
          ]
        }
      ]
    },
    {
      "cell_type": "markdown",
      "metadata": {
        "id": "C8T4GYGK4UGm"
      },
      "source": [
        "##Question 5. What is the determinant of the given matrix in Question 4? Show your solution by python coding. (20 points)\n",
        "\n"
      ]
    },
    {
      "cell_type": "code",
      "metadata": {
        "colab": {
          "base_uri": "https://localhost:8080/"
        },
        "id": "cGB7tGGb3ho9",
        "outputId": "606644ef-fda1-46bb-a0ef-de380ff1479e"
      },
      "source": [
        "import numpy as np #numpy function\n",
        "A = np.array([[1,2,3],[2,3,3],[3,4,-2]]) #creation of matrix A\n",
        "print(\"Matrix A:\")\n",
        "print(A) \n",
        "print(\"\\nDeterminant of Matrix A:\")\n",
        "print(round(np.linalg.det(A))) #printing the determinant of matrix A"
      ],
      "execution_count": 37,
      "outputs": [
        {
          "output_type": "stream",
          "name": "stdout",
          "text": [
            "Matrix A:\n",
            "[[ 1  2  3]\n",
            " [ 2  3  3]\n",
            " [ 3  4 -2]]\n",
            "\n",
            "Determinant of Matrix A:\n",
            "5\n"
          ]
        }
      ]
    },
    {
      "cell_type": "markdown",
      "metadata": {
        "id": "H0wskT9d4oP9"
      },
      "source": [
        "##Question 6. Find the roots of the linear equations by showing its python codes (30 points)\n",
        "\n",
        "5X1 + 4X2 + X3 = 3.4\n",
        "\n",
        "10X1 + 9X2 + 4X3 = 8.8\n",
        "\n",
        "10X1 + 13X2 + 15X3 = 19.2"
      ]
    },
    {
      "cell_type": "code",
      "metadata": {
        "colab": {
          "base_uri": "https://localhost:8080/"
        },
        "id": "ZvF1tQ9w4rQF",
        "outputId": "725c2725-151d-425d-e480-be29813fca17"
      },
      "source": [
        "import numpy as np\n",
        "A = np.array([[5,4,1],[10,9,4],[10,13,15]]) #creation of matrix A\n",
        "print(\"Matrix A:\")\n",
        "print(A)\n",
        "\n",
        "print (\"\\nInverse of Matrix A:\")\n",
        "inv_A = np.linalg.inv(A) #inverse of matrix A\n",
        "print(inv_A)\n",
        "\n",
        "B = np.array([[3.4],[8.8],[19.2]]) #creation of matrix B (constants of the eq.)\n",
        "print(\"\\nMatrix B:\")\n",
        "print(B)\n",
        "\n",
        "print(\"\\nValue of X1, X2, X3:\")\n",
        "X = np.dot(inv_A,B) #dot product (values of x1,x2,x3)\n",
        "print(X)"
      ],
      "execution_count": 36,
      "outputs": [
        {
          "output_type": "stream",
          "name": "stdout",
          "text": [
            "Matrix A:\n",
            "[[ 5  4  1]\n",
            " [10  9  4]\n",
            " [10 13 15]]\n",
            "\n",
            "Inverse of Matrix A:\n",
            "[[ 5.53333333 -3.13333333  0.46666667]\n",
            " [-7.33333333  4.33333333 -0.66666667]\n",
            " [ 2.66666667 -1.66666667  0.33333333]]\n",
            "\n",
            "Matrix B:\n",
            "[[ 3.4]\n",
            " [ 8.8]\n",
            " [19.2]]\n",
            "\n",
            "Value of X1, X2, X3:\n",
            "[[0.2]\n",
            " [0.4]\n",
            " [0.8]]\n"
          ]
        }
      ]
    }
  ]
}