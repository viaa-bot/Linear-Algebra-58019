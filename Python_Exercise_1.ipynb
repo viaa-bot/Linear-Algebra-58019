{
  "nbformat": 4,
  "nbformat_minor": 0,
  "metadata": {
    "colab": {
      "name": "Python Exercise 1.ipynb",
      "provenance": [],
      "collapsed_sections": [],
      "authorship_tag": "ABX9TyNckqmUaGHABr/laofm6MoC",
      "include_colab_link": true
    },
    "kernelspec": {
      "name": "python3",
      "display_name": "Python 3"
    },
    "language_info": {
      "name": "python"
    }
  },
  "cells": [
    {
      "cell_type": "markdown",
      "metadata": {
        "id": "view-in-github",
        "colab_type": "text"
      },
      "source": [
        "<a href=\"https://colab.research.google.com/github/viaa-bot/Linear-Algebra-58019/blob/main/Python_Exercise_1.ipynb\" target=\"_parent\"><img src=\"https://colab.research.google.com/assets/colab-badge.svg\" alt=\"Open In Colab\"/></a>"
      ]
    },
    {
      "cell_type": "markdown",
      "metadata": {
        "id": "tMALRgW88UeB"
      },
      "source": [
        "Matrix and Its Operations\n"
      ]
    },
    {
      "cell_type": "code",
      "metadata": {
        "id": "DGvNseyw8KPK"
      },
      "source": [
        "from numpy import array"
      ],
      "execution_count": 1,
      "outputs": []
    },
    {
      "cell_type": "code",
      "metadata": {
        "id": "YURnMNAu9kqY"
      },
      "source": [
        "import numpy as np"
      ],
      "execution_count": 2,
      "outputs": []
    },
    {
      "cell_type": "code",
      "metadata": {
        "id": "rTC3fEnV9pet"
      },
      "source": [
        "A = np.array([[-5, 0], [4, 1]]) "
      ],
      "execution_count": 6,
      "outputs": []
    },
    {
      "cell_type": "code",
      "metadata": {
        "id": "zieI_zMA9xVp"
      },
      "source": [
        "B = np.array([[6, -3], [2, 3]]) "
      ],
      "execution_count": 7,
      "outputs": []
    },
    {
      "cell_type": "markdown",
      "metadata": {
        "id": "tnNmYxfx-7sv"
      },
      "source": [
        "ADDITION\n"
      ]
    },
    {
      "cell_type": "code",
      "metadata": {
        "colab": {
          "base_uri": "https://localhost:8080/"
        },
        "id": "RaTRDuvu91tB",
        "outputId": "15e9fff2-60c2-4b5c-fcbf-f3b08e20dd74"
      },
      "source": [
        "print(np.add(A, B))"
      ],
      "execution_count": 24,
      "outputs": [
        {
          "output_type": "stream",
          "name": "stdout",
          "text": [
            "[[ 1 -3]\n",
            " [ 6  4]]\n"
          ]
        }
      ]
    },
    {
      "cell_type": "markdown",
      "metadata": {
        "id": "4YrpkO1u_PTm"
      },
      "source": [
        "DIFFERRENCE 1"
      ]
    },
    {
      "cell_type": "code",
      "metadata": {
        "colab": {
          "base_uri": "https://localhost:8080/"
        },
        "id": "Fw7_XW65_-MU",
        "outputId": "c279ad5a-c10f-4358-8a39-8e2049e88068"
      },
      "source": [
        "print(np.subtract(B, A))"
      ],
      "execution_count": 22,
      "outputs": [
        {
          "output_type": "stream",
          "name": "stdout",
          "text": [
            "[[11 -3]\n",
            " [-2  2]]\n"
          ]
        }
      ]
    },
    {
      "cell_type": "markdown",
      "metadata": {
        "id": "BGj-wpExAGRD"
      },
      "source": [
        "DIFFERRENCE 2"
      ]
    },
    {
      "cell_type": "code",
      "metadata": {
        "colab": {
          "base_uri": "https://localhost:8080/"
        },
        "id": "kgL5CWd9AISR",
        "outputId": "8e98493c-e92e-4393-9bcb-f9ca8c3ffd0f"
      },
      "source": [
        "print(np.subtract(A, B))"
      ],
      "execution_count": 23,
      "outputs": [
        {
          "output_type": "stream",
          "name": "stdout",
          "text": [
            "[[-11   3]\n",
            " [  2  -2]]\n"
          ]
        }
      ]
    }
  ]
}